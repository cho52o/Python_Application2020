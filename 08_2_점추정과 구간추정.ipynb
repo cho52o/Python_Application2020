{
 "cells": [
  {
   "cell_type": "markdown",
   "metadata": {},
   "source": [
    "# 통계적 추론\n",
    "* 추정(estimation)\n",
    "    * 점추정(point estimation)\n",
    "    * 구간추정(interval estimation)\n",
    "* 검정(testing)\n",
    "\n",
    "# 점추정\n",
    "* 불편성\n",
    "* 최소분사성\n",
    "\n",
    "## 평균의 추정량\n",
    "\n",
    "## 분산의 추정량\n",
    "\n",
    "## 비율의 추정량\n",
    "\n",
    "# 구간추정\n",
    "* 신뢰구간\n",
    "\n",
    "## 평균의 신뢰구간\n",
    "* 분산을 알고 있는 경우 - 정규분포\n",
    "* 분산을 모르고 있는 경우 - t분포"
   ]
  },
  {
   "cell_type": "markdown",
   "metadata": {},
   "source": [
    "> 분산을 알고 있는 경우"
   ]
  },
  {
   "cell_type": "code",
   "execution_count": 1,
   "metadata": {},
   "outputs": [],
   "source": [
    "### library\n",
    "import pandas as pd\n",
    "import numpy as np\n",
    "from scipy import stats"
   ]
  },
  {
   "cell_type": "code",
   "execution_count": 2,
   "metadata": {},
   "outputs": [],
   "source": [
    "pop_var = 16\n",
    "x = pd.Series([5.9, 6.8, 10.2, 14.0, 17.3, 10.1, 4.6, 9.5, 7.5, 9.8])"
   ]
  },
  {
   "cell_type": "code",
   "execution_count": 3,
   "metadata": {},
   "outputs": [
    {
     "data": {
      "text/plain": [
       "9.57"
      ]
     },
     "execution_count": 3,
     "metadata": {},
     "output_type": "execute_result"
    }
   ],
   "source": [
    "# 평균의 점추정량\n",
    "round(x.mean(), 4)"
   ]
  },
  {
   "cell_type": "code",
   "execution_count": 4,
   "metadata": {},
   "outputs": [
    {
     "data": {
      "text/plain": [
       "0     7.09\n",
       "1    12.05\n",
       "dtype: float64"
      ]
     },
     "execution_count": 4,
     "metadata": {},
     "output_type": "execute_result"
    }
   ],
   "source": [
    "# 95% 신뢰구간 (1-alpha)% 신뢰구간\n",
    "alpha = 0.05\n",
    "n = x.size\n",
    "c_025 = stats.norm.ppf(1-alpha/2)\n",
    "pop_sd = np.sqrt(pop_var)\n",
    "err = c_025 * pop_sd / np.sqrt(n)\n",
    "CI_95 = pd.Series([np.mean(x)-err, np.mean(x)+err])\n",
    "CI_95.round(2)"
   ]
  }
 ],
 "metadata": {
  "kernelspec": {
   "display_name": "Python 3",
   "language": "python",
   "name": "python3"
  },
  "language_info": {
   "codemirror_mode": {
    "name": "ipython",
    "version": 3
   },
   "file_extension": ".py",
   "mimetype": "text/x-python",
   "name": "python",
   "nbconvert_exporter": "python",
   "pygments_lexer": "ipython3",
   "version": "3.7.7"
  }
 },
 "nbformat": 4,
 "nbformat_minor": 4
}
